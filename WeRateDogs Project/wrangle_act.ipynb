{
 "cells": [
  {
   "cell_type": "markdown",
   "metadata": {},
   "source": [
    "# Twitter We Rate Dogs Project"
   ]
  },
  {
   "cell_type": "markdown",
   "metadata": {},
   "source": [
    "## Table of Contents\n",
    "\n",
    "+ "
   ]
  },
  {
   "cell_type": "markdown",
   "metadata": {},
   "source": [
    "## Importing Necessary Libaries"
   ]
  },
  {
   "cell_type": "code",
   "execution_count": 7,
   "metadata": {},
   "outputs": [],
   "source": [
    "import pandas as pd\n",
    "import numpy as np\n",
    "import json\n",
    "import os\n",
    "import tweepy\n",
    "import requests\n",
    "import re\n",
    "from tweepy import OAuthHandler\n",
    "from timeit import default_timer as timer"
   ]
  },
  {
   "cell_type": "markdown",
   "metadata": {},
   "source": [
    "## Gathering Data"
   ]
  },
  {
   "cell_type": "markdown",
   "metadata": {},
   "source": [
    "#### Downloading Files Programmatically - Image Prediction File"
   ]
  },
  {
   "cell_type": "code",
   "execution_count": 8,
   "metadata": {},
   "outputs": [],
   "source": [
    "url = 'https://d17h27t6h515a5.cloudfront.net/topher/2017/August/599fd2ad_image-predictions/image-predictions.tsv'\n",
    "response = requests.get(url)\n",
    "file_name = url.split(\"/\")[-1]\n",
    "\n",
    "open(file_name, 'wb').write(response.content)\n",
    "imagePrediction = pd.read_csv(file_name, sep = '\\t')"
   ]
  },
  {
   "cell_type": "markdown",
   "metadata": {},
   "source": [
    "#### Reading from a TSV File"
   ]
  },
  {
   "cell_type": "code",
   "execution_count": 9,
   "metadata": {},
   "outputs": [],
   "source": [
    "fileName = 'twitter-archive-enhanced.csv'\n",
    "twitter_archive = pd.read_csv(fileName)"
   ]
  },
  {
   "cell_type": "markdown",
   "metadata": {},
   "source": [
    "#### Gathering data from Twitter"
   ]
  },
  {
   "cell_type": "raw",
   "metadata": {},
   "source": [
    "customer_key = \"HIDDEN\"\n",
    "customer_secret = \"HIDDEN\"\n",
    "access_token = \"HIDDEN\"\n",
    "access_secret =\"HIDDEN\"\n",
    "\n",
    "auth = tweepy.OAuthHandler(customer_key, customer_secret)\n",
    "auth.set_access_token(access_token, access_secret)\n",
    "api = tweepy.API(auth, wait_on_rate_limit=True)\n",
    "\n",
    "with open(\"tweet_json.txt\", \"w\") as file:\n",
    "    for i in twitter_archive.tweet_id.values:\n",
    "        try:\n",
    "            tweet = api.get_status(i, tweet_mode = 'extended')\n",
    "            print (\"Successful --\" + str(i))\n",
    "            json.dump(tweet._json,file)\n",
    "            file.write(\"\\n\")\n",
    "        except:\n",
    "            print (\"Fail --\" + str(i))\n",
    "            pass"
   ]
  },
  {
   "cell_type": "code",
   "execution_count": 10,
   "metadata": {},
   "outputs": [],
   "source": [
    "with open (\"tweet_json.txt\") as file:\n",
    "    list1 = []\n",
    "    count = 0 \n",
    "    while True:\n",
    "        count = count + 1\n",
    "        text = file.readline()\n",
    "        if not text:\n",
    "            break\n",
    "        text_dict = json.loads(text)\n",
    "        list1.append(text_dict)"
   ]
  },
  {
   "cell_type": "code",
   "execution_count": 11,
   "metadata": {},
   "outputs": [],
   "source": [
    "tweet_ids = []\n",
    "favorite_counts = []\n",
    "retweet_counts = []\n",
    "\n",
    "for i in list1:\n",
    "    ids = i['id']\n",
    "    tweet_ids.append(ids)\n",
    "    fvc = i['favorite_count']\n",
    "    favorite_counts.append(fvc)\n",
    "    rtc = i['retweet_count']\n",
    "    retweet_counts.append(rtc)\n",
    "    \n",
    "json_dict = {'Tweet_ID':tweet_ids, 'Favorite_counts':favorite_counts, 'Retweet_Counts': retweet_counts}\n",
    "json_df = pd.DataFrame(json_dict)"
   ]
  },
  {
   "cell_type": "markdown",
   "metadata": {},
   "source": [
    "#### Combining the Datasets"
   ]
  },
  {
   "cell_type": "code",
   "execution_count": 22,
   "metadata": {},
   "outputs": [],
   "source": [
    "combinedData = twitter_archive.join(json_df, on=\"tweet_id\", how='outer',sort=False)\n",
    "fullData = pd.concat([combinedData, imagePrediction])"
   ]
  }
 ],
 "metadata": {
  "kernelspec": {
   "display_name": "Python 3",
   "language": "python",
   "name": "python3"
  },
  "language_info": {
   "codemirror_mode": {
    "name": "ipython",
    "version": 3
   },
   "file_extension": ".py",
   "mimetype": "text/x-python",
   "name": "python",
   "nbconvert_exporter": "python",
   "pygments_lexer": "ipython3",
   "version": "3.7.4"
  }
 },
 "nbformat": 4,
 "nbformat_minor": 2
}
