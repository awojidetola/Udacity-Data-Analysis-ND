{
 "cells": [
  {
   "cell_type": "markdown",
   "metadata": {},
   "source": [
    "# IMDB MOVIE ANALYSIS"
   ]
  },
  {
   "cell_type": "markdown",
   "metadata": {},
   "source": [
    "## Table of Contents"
   ]
  },
  {
   "cell_type": "markdown",
   "metadata": {},
   "source": [
    "<ul>\n",
    "<li><a href=\"#intro\">Introduction</a></li>\n",
    "<li><a href=\"#load\">Loading and Exploring the Dataset</a></li>    \n",
    "<li><a href=\"#wrang\">Data Wrangling</a></li>\n",
    "<li><a href=\"#eda\">Exploratory Data Analysis</a></li>\n",
    "    <ul>\n",
    "    <li> <a href=\"#r1\">Research Question 1</a></li>\n",
    "    <li> <a href=\"#r2\">Research Question 2</a></li>\n",
    "    <li> <a href=\"#r3\">Research Question 3</a></li>\n",
    "    </ul>\n",
    "<li><a href=\"#conclusions\">Conclusion and Limitations</a></li>\n",
    "<li><a href=\"#reference\">References</a></li>\n",
    "    \n",
    "</ul>"
   ]
  },
  {
   "cell_type": "markdown",
   "metadata": {},
   "source": [
    "<a id='intro'></a>\n",
    "## Introduction"
   ]
  },
  {
   "cell_type": "markdown",
   "metadata": {},
   "source": [
    "The International Movies Database (IMDB) contains a collection of movies and television shows as well as the directors, cast, revenue, budget and vote rating, etc. of these movies. It provides users the  opportunity to decide which movie they should go for. This report analyses the IMDB Dataset from 1960 to 2015 and it should be taken into account that the conclusions made in this report are in that time frame and solely for the movies provided in this database.\n",
    "\n",
    "For this report, the dependent variables analyzed are casts and genres of the movies.\n",
    "\n",
    "+ **Cast**: The choice of users is greatly influenced by the casts in a movie. Fans of a particular movie cast prefer movies by the cast to other movies. Users may also rate the quality of a movie by the casts it features.\n",
    "\n",
    "\n",
    "+ **Genre**: Most users have a particular taste in Genre. Some may prefer a genre to another and some genres are also more widely accepted than others.\n",
    "\n",
    "The key independent variables used for the analysis are:\n",
    "\n",
    "+ **Revenue**: The amount of revenue generated might be a relection of the quality of a movie/tv show. Good shows tend to generate higher revenue. Similarly, many individuals prefer the highest grossing movies because of the assumed quality it is expected to have. \n",
    "\n",
    "\n",
    "+ **Voting Average**: This is the standard rating system adopted by IMDB. The rating is from 1 (lowest) to 10 (highest). It usually serves as a measure of how much a movie is preferred by the populace and this metric is adopted by many users to select their movie of preference.\n",
    "\n",
    "\n",
    "+ **Budget**: The Budget is the total amount on a movie/tv show from inception to production. Sometimes, high-budgeted movies may be perceived as quality because more money is spent on the movie to make it top-notch. \n",
    "\n",
    "Based on the dependent and independent variables mentioned above, the following are the research questions analyzed in this report.\n",
    "\n",
    "+ Who are the most featured casts and what are the characteristics attributed to them?\n",
    "+ Who are the casts of the highest grossing movies and what is the general overview of their footprint in the movie industry?\n",
    "+ Does genre popularity influence rating?"
   ]
  },
  {
   "cell_type": "code",
   "execution_count": 1,
   "metadata": {},
   "outputs": [],
   "source": [
    "# Importing the required libraries\n",
    "%matplotlib inline\n",
    "import pandas as pd\n",
    "import numpy as np\n",
    "import matplotlib.pyplot as plt\n",
    "import seaborn as sns\n",
    "import warnings\n",
    "warnings.filterwarnings(\"ignore\")"
   ]
  },
  {
   "cell_type": "markdown",
   "metadata": {},
   "source": [
    "<a id='load'></a>\n",
    "\n",
    "## Loading and Exploring the Dataset"
   ]
  },
  {
   "cell_type": "code",
   "execution_count": 2,
   "metadata": {},
   "outputs": [
    {
     "data": {
      "text/html": [
       "<div>\n",
       "<style scoped>\n",
       "    .dataframe tbody tr th:only-of-type {\n",
       "        vertical-align: middle;\n",
       "    }\n",
       "\n",
       "    .dataframe tbody tr th {\n",
       "        vertical-align: top;\n",
       "    }\n",
       "\n",
       "    .dataframe thead th {\n",
       "        text-align: right;\n",
       "    }\n",
       "</style>\n",
       "<table border=\"1\" class=\"dataframe\">\n",
       "  <thead>\n",
       "    <tr style=\"text-align: right;\">\n",
       "      <th></th>\n",
       "      <th>id</th>\n",
       "      <th>imdb_id</th>\n",
       "      <th>popularity</th>\n",
       "      <th>budget</th>\n",
       "      <th>revenue</th>\n",
       "      <th>original_title</th>\n",
       "      <th>cast</th>\n",
       "      <th>homepage</th>\n",
       "      <th>director</th>\n",
       "      <th>tagline</th>\n",
       "      <th>...</th>\n",
       "      <th>overview</th>\n",
       "      <th>runtime</th>\n",
       "      <th>genres</th>\n",
       "      <th>production_companies</th>\n",
       "      <th>release_date</th>\n",
       "      <th>vote_count</th>\n",
       "      <th>vote_average</th>\n",
       "      <th>release_year</th>\n",
       "      <th>budget_adj</th>\n",
       "      <th>revenue_adj</th>\n",
       "    </tr>\n",
       "  </thead>\n",
       "  <tbody>\n",
       "    <tr>\n",
       "      <th>0</th>\n",
       "      <td>135397</td>\n",
       "      <td>tt0369610</td>\n",
       "      <td>32.985763</td>\n",
       "      <td>150000000</td>\n",
       "      <td>1513528810</td>\n",
       "      <td>Jurassic World</td>\n",
       "      <td>Chris Pratt|Bryce Dallas Howard|Irrfan Khan|Vi...</td>\n",
       "      <td>http://www.jurassicworld.com/</td>\n",
       "      <td>Colin Trevorrow</td>\n",
       "      <td>The park is open.</td>\n",
       "      <td>...</td>\n",
       "      <td>Twenty-two years after the events of Jurassic ...</td>\n",
       "      <td>124</td>\n",
       "      <td>Action|Adventure|Science Fiction|Thriller</td>\n",
       "      <td>Universal Studios|Amblin Entertainment|Legenda...</td>\n",
       "      <td>6/9/15</td>\n",
       "      <td>5562</td>\n",
       "      <td>6.5</td>\n",
       "      <td>2015</td>\n",
       "      <td>1.379999e+08</td>\n",
       "      <td>1.392446e+09</td>\n",
       "    </tr>\n",
       "    <tr>\n",
       "      <th>1</th>\n",
       "      <td>76341</td>\n",
       "      <td>tt1392190</td>\n",
       "      <td>28.419936</td>\n",
       "      <td>150000000</td>\n",
       "      <td>378436354</td>\n",
       "      <td>Mad Max: Fury Road</td>\n",
       "      <td>Tom Hardy|Charlize Theron|Hugh Keays-Byrne|Nic...</td>\n",
       "      <td>http://www.madmaxmovie.com/</td>\n",
       "      <td>George Miller</td>\n",
       "      <td>What a Lovely Day.</td>\n",
       "      <td>...</td>\n",
       "      <td>An apocalyptic story set in the furthest reach...</td>\n",
       "      <td>120</td>\n",
       "      <td>Action|Adventure|Science Fiction|Thriller</td>\n",
       "      <td>Village Roadshow Pictures|Kennedy Miller Produ...</td>\n",
       "      <td>5/13/15</td>\n",
       "      <td>6185</td>\n",
       "      <td>7.1</td>\n",
       "      <td>2015</td>\n",
       "      <td>1.379999e+08</td>\n",
       "      <td>3.481613e+08</td>\n",
       "    </tr>\n",
       "  </tbody>\n",
       "</table>\n",
       "<p>2 rows × 21 columns</p>\n",
       "</div>"
      ],
      "text/plain": [
       "       id    imdb_id  popularity     budget     revenue      original_title  \\\n",
       "0  135397  tt0369610   32.985763  150000000  1513528810      Jurassic World   \n",
       "1   76341  tt1392190   28.419936  150000000   378436354  Mad Max: Fury Road   \n",
       "\n",
       "                                                cast  \\\n",
       "0  Chris Pratt|Bryce Dallas Howard|Irrfan Khan|Vi...   \n",
       "1  Tom Hardy|Charlize Theron|Hugh Keays-Byrne|Nic...   \n",
       "\n",
       "                        homepage         director             tagline  ...  \\\n",
       "0  http://www.jurassicworld.com/  Colin Trevorrow   The park is open.  ...   \n",
       "1    http://www.madmaxmovie.com/    George Miller  What a Lovely Day.  ...   \n",
       "\n",
       "                                            overview runtime  \\\n",
       "0  Twenty-two years after the events of Jurassic ...     124   \n",
       "1  An apocalyptic story set in the furthest reach...     120   \n",
       "\n",
       "                                      genres  \\\n",
       "0  Action|Adventure|Science Fiction|Thriller   \n",
       "1  Action|Adventure|Science Fiction|Thriller   \n",
       "\n",
       "                                production_companies release_date vote_count  \\\n",
       "0  Universal Studios|Amblin Entertainment|Legenda...       6/9/15       5562   \n",
       "1  Village Roadshow Pictures|Kennedy Miller Produ...      5/13/15       6185   \n",
       "\n",
       "   vote_average  release_year    budget_adj   revenue_adj  \n",
       "0           6.5          2015  1.379999e+08  1.392446e+09  \n",
       "1           7.1          2015  1.379999e+08  3.481613e+08  \n",
       "\n",
       "[2 rows x 21 columns]"
      ]
     },
     "metadata": {},
     "output_type": "display_data"
    },
    {
     "name": "stdout",
     "output_type": "stream",
     "text": [
      "<class 'pandas.core.frame.DataFrame'>\n",
      "RangeIndex: 10866 entries, 0 to 10865\n",
      "Data columns (total 21 columns):\n",
      " #   Column                Non-Null Count  Dtype  \n",
      "---  ------                --------------  -----  \n",
      " 0   id                    10866 non-null  int64  \n",
      " 1   imdb_id               10856 non-null  object \n",
      " 2   popularity            10866 non-null  float64\n",
      " 3   budget                10866 non-null  int64  \n",
      " 4   revenue               10866 non-null  int64  \n",
      " 5   original_title        10866 non-null  object \n",
      " 6   cast                  10790 non-null  object \n",
      " 7   homepage              2936 non-null   object \n",
      " 8   director              10822 non-null  object \n",
      " 9   tagline               8042 non-null   object \n",
      " 10  keywords              9373 non-null   object \n",
      " 11  overview              10862 non-null  object \n",
      " 12  runtime               10866 non-null  int64  \n",
      " 13  genres                10843 non-null  object \n",
      " 14  production_companies  9836 non-null   object \n",
      " 15  release_date          10866 non-null  object \n",
      " 16  vote_count            10866 non-null  int64  \n",
      " 17  vote_average          10866 non-null  float64\n",
      " 18  release_year          10866 non-null  int64  \n",
      " 19  budget_adj            10866 non-null  float64\n",
      " 20  revenue_adj           10866 non-null  float64\n",
      "dtypes: float64(4), int64(6), object(11)\n",
      "memory usage: 1.7+ MB\n"
     ]
    },
    {
     "data": {
      "text/plain": [
       "None"
      ]
     },
     "metadata": {},
     "output_type": "display_data"
    }
   ],
   "source": [
    "#Loading the dataset\n",
    "df = pd.read_csv(\"tmdb-movies.csv\")\n",
    "\n",
    "#Exploring the dataset\n",
    "display(df.head(2))\n",
    "display(df.info())"
   ]
  },
  {
   "cell_type": "code",
   "execution_count": 3,
   "metadata": {},
   "outputs": [
    {
     "data": {
      "text/plain": [
       "id                         0\n",
       "imdb_id                   10\n",
       "popularity                 0\n",
       "budget                     0\n",
       "revenue                    0\n",
       "original_title             0\n",
       "cast                      76\n",
       "homepage                7930\n",
       "director                  44\n",
       "tagline                 2824\n",
       "keywords                1493\n",
       "overview                   4\n",
       "runtime                    0\n",
       "genres                    23\n",
       "production_companies    1030\n",
       "release_date               0\n",
       "vote_count                 0\n",
       "vote_average               0\n",
       "release_year               0\n",
       "budget_adj                 0\n",
       "revenue_adj                0\n",
       "dtype: int64"
      ]
     },
     "execution_count": 3,
     "metadata": {},
     "output_type": "execute_result"
    }
   ],
   "source": [
    "df.isnull().sum()"
   ]
  },
  {
   "cell_type": "code",
   "execution_count": 4,
   "metadata": {},
   "outputs": [
    {
     "data": {
      "text/html": [
       "<div>\n",
       "<style scoped>\n",
       "    .dataframe tbody tr th:only-of-type {\n",
       "        vertical-align: middle;\n",
       "    }\n",
       "\n",
       "    .dataframe tbody tr th {\n",
       "        vertical-align: top;\n",
       "    }\n",
       "\n",
       "    .dataframe thead th {\n",
       "        text-align: right;\n",
       "    }\n",
       "</style>\n",
       "<table border=\"1\" class=\"dataframe\">\n",
       "  <thead>\n",
       "    <tr style=\"text-align: right;\">\n",
       "      <th></th>\n",
       "      <th>id</th>\n",
       "      <th>popularity</th>\n",
       "      <th>budget</th>\n",
       "      <th>revenue</th>\n",
       "      <th>runtime</th>\n",
       "      <th>vote_count</th>\n",
       "      <th>vote_average</th>\n",
       "      <th>release_year</th>\n",
       "      <th>budget_adj</th>\n",
       "      <th>revenue_adj</th>\n",
       "    </tr>\n",
       "  </thead>\n",
       "  <tbody>\n",
       "    <tr>\n",
       "      <th>count</th>\n",
       "      <td>10866.000000</td>\n",
       "      <td>10866.000000</td>\n",
       "      <td>1.086600e+04</td>\n",
       "      <td>1.086600e+04</td>\n",
       "      <td>10866.000000</td>\n",
       "      <td>10866.000000</td>\n",
       "      <td>10866.000000</td>\n",
       "      <td>10866.000000</td>\n",
       "      <td>1.086600e+04</td>\n",
       "      <td>1.086600e+04</td>\n",
       "    </tr>\n",
       "    <tr>\n",
       "      <th>mean</th>\n",
       "      <td>66064.177434</td>\n",
       "      <td>0.646441</td>\n",
       "      <td>1.462570e+07</td>\n",
       "      <td>3.982332e+07</td>\n",
       "      <td>102.070863</td>\n",
       "      <td>217.389748</td>\n",
       "      <td>5.974922</td>\n",
       "      <td>2001.322658</td>\n",
       "      <td>1.755104e+07</td>\n",
       "      <td>5.136436e+07</td>\n",
       "    </tr>\n",
       "    <tr>\n",
       "      <th>std</th>\n",
       "      <td>92130.136561</td>\n",
       "      <td>1.000185</td>\n",
       "      <td>3.091321e+07</td>\n",
       "      <td>1.170035e+08</td>\n",
       "      <td>31.381405</td>\n",
       "      <td>575.619058</td>\n",
       "      <td>0.935142</td>\n",
       "      <td>12.812941</td>\n",
       "      <td>3.430616e+07</td>\n",
       "      <td>1.446325e+08</td>\n",
       "    </tr>\n",
       "    <tr>\n",
       "      <th>min</th>\n",
       "      <td>5.000000</td>\n",
       "      <td>0.000065</td>\n",
       "      <td>0.000000e+00</td>\n",
       "      <td>0.000000e+00</td>\n",
       "      <td>0.000000</td>\n",
       "      <td>10.000000</td>\n",
       "      <td>1.500000</td>\n",
       "      <td>1960.000000</td>\n",
       "      <td>0.000000e+00</td>\n",
       "      <td>0.000000e+00</td>\n",
       "    </tr>\n",
       "    <tr>\n",
       "      <th>25%</th>\n",
       "      <td>10596.250000</td>\n",
       "      <td>0.207583</td>\n",
       "      <td>0.000000e+00</td>\n",
       "      <td>0.000000e+00</td>\n",
       "      <td>90.000000</td>\n",
       "      <td>17.000000</td>\n",
       "      <td>5.400000</td>\n",
       "      <td>1995.000000</td>\n",
       "      <td>0.000000e+00</td>\n",
       "      <td>0.000000e+00</td>\n",
       "    </tr>\n",
       "    <tr>\n",
       "      <th>50%</th>\n",
       "      <td>20669.000000</td>\n",
       "      <td>0.383856</td>\n",
       "      <td>0.000000e+00</td>\n",
       "      <td>0.000000e+00</td>\n",
       "      <td>99.000000</td>\n",
       "      <td>38.000000</td>\n",
       "      <td>6.000000</td>\n",
       "      <td>2006.000000</td>\n",
       "      <td>0.000000e+00</td>\n",
       "      <td>0.000000e+00</td>\n",
       "    </tr>\n",
       "    <tr>\n",
       "      <th>75%</th>\n",
       "      <td>75610.000000</td>\n",
       "      <td>0.713817</td>\n",
       "      <td>1.500000e+07</td>\n",
       "      <td>2.400000e+07</td>\n",
       "      <td>111.000000</td>\n",
       "      <td>145.750000</td>\n",
       "      <td>6.600000</td>\n",
       "      <td>2011.000000</td>\n",
       "      <td>2.085325e+07</td>\n",
       "      <td>3.369710e+07</td>\n",
       "    </tr>\n",
       "    <tr>\n",
       "      <th>max</th>\n",
       "      <td>417859.000000</td>\n",
       "      <td>32.985763</td>\n",
       "      <td>4.250000e+08</td>\n",
       "      <td>2.781506e+09</td>\n",
       "      <td>900.000000</td>\n",
       "      <td>9767.000000</td>\n",
       "      <td>9.200000</td>\n",
       "      <td>2015.000000</td>\n",
       "      <td>4.250000e+08</td>\n",
       "      <td>2.827124e+09</td>\n",
       "    </tr>\n",
       "  </tbody>\n",
       "</table>\n",
       "</div>"
      ],
      "text/plain": [
       "                  id    popularity        budget       revenue       runtime  \\\n",
       "count   10866.000000  10866.000000  1.086600e+04  1.086600e+04  10866.000000   \n",
       "mean    66064.177434      0.646441  1.462570e+07  3.982332e+07    102.070863   \n",
       "std     92130.136561      1.000185  3.091321e+07  1.170035e+08     31.381405   \n",
       "min         5.000000      0.000065  0.000000e+00  0.000000e+00      0.000000   \n",
       "25%     10596.250000      0.207583  0.000000e+00  0.000000e+00     90.000000   \n",
       "50%     20669.000000      0.383856  0.000000e+00  0.000000e+00     99.000000   \n",
       "75%     75610.000000      0.713817  1.500000e+07  2.400000e+07    111.000000   \n",
       "max    417859.000000     32.985763  4.250000e+08  2.781506e+09    900.000000   \n",
       "\n",
       "         vote_count  vote_average  release_year    budget_adj   revenue_adj  \n",
       "count  10866.000000  10866.000000  10866.000000  1.086600e+04  1.086600e+04  \n",
       "mean     217.389748      5.974922   2001.322658  1.755104e+07  5.136436e+07  \n",
       "std      575.619058      0.935142     12.812941  3.430616e+07  1.446325e+08  \n",
       "min       10.000000      1.500000   1960.000000  0.000000e+00  0.000000e+00  \n",
       "25%       17.000000      5.400000   1995.000000  0.000000e+00  0.000000e+00  \n",
       "50%       38.000000      6.000000   2006.000000  0.000000e+00  0.000000e+00  \n",
       "75%      145.750000      6.600000   2011.000000  2.085325e+07  3.369710e+07  \n",
       "max     9767.000000      9.200000   2015.000000  4.250000e+08  2.827124e+09  "
      ]
     },
     "execution_count": 4,
     "metadata": {},
     "output_type": "execute_result"
    }
   ],
   "source": [
    "df.describe()"
   ]
  },
  {
   "cell_type": "code",
   "execution_count": 5,
   "metadata": {},
   "outputs": [],
   "source": [
    "df = df.drop_duplicates()"
   ]
  },
  {
   "cell_type": "markdown",
   "metadata": {},
   "source": [
    "<a id='wrang'></a>\n",
    "\n",
    "## Data Wrangling"
   ]
  },
  {
   "cell_type": "code",
   "execution_count": 6,
   "metadata": {},
   "outputs": [],
   "source": [
    "def dependent_variable(x):\n",
    "    df1 = df[df[x].notna()]\n",
    "    df_v1 = df1[x].str.split(\"|\",expand = True)\n",
    "    df_v1.columns = ['split1','split2','split3','split4','split5']\n",
    "    for c in df_v1.columns:\n",
    "        df1[c] = df_v1[c]\n",
    "    \n",
    "    name = \"corrected_\" + x\n",
    "    v1 = df1.drop(['split2', 'split3','split4','split5'],1)\n",
    "    v1[name] = v1['split1']\n",
    "\n",
    "    v2 = df1[df1['split2'].notna()]\n",
    "    v2 = v2.drop(['split1', 'split3','split4','split5'],1)\n",
    "    v2[name] = v2['split2']\n",
    "\n",
    "    v3 = df1[df1['split3'].notna()]\n",
    "    v3 = v3.drop(['split1', 'split2','split4','split5'],1)\n",
    "    v3[name] = v3['split3']\n",
    "\n",
    "    v4 = df1[df1['split4'].notna()]\n",
    "    v4 = v4.drop(['split1', 'split2','split3','split5'],1)\n",
    "    v4[name] = v4['split4']\n",
    "\n",
    "    v5 = df1[df1['split5'].notna()]\n",
    "    v5 = v5.drop(['split1', 'split2','split3','split4'],1)\n",
    "    v5[name] = v5['split5'] \n",
    "    \n",
    "    first_merge_cast = v1.merge(v2,how=\"outer\")\n",
    "    second_merge_cast = first_merge_cast.merge(v3, how=\"outer\")\n",
    "    third_merge_cast = second_merge_cast.merge(v4, how=\"outer\")\n",
    "    df1 = third_merge_cast.merge(v5,how=\"outer\")\n",
    "\n",
    "    df1 = df1.drop(['split1', 'split2','split3','split4','split5','cast'],1)\n",
    "    return df1"
   ]
  },
  {
   "cell_type": "code",
   "execution_count": 7,
   "metadata": {},
   "outputs": [],
   "source": [
    "cast_df = dependent_variable('cast')\n",
    "genres_df = dependent_variable(\"genres\")"
   ]
  },
  {
   "cell_type": "markdown",
   "metadata": {},
   "source": [
    "<a id='eda'></a>\n",
    "\n",
    "## Exploratory Data Analysis"
   ]
  },
  {
   "cell_type": "code",
   "execution_count": 8,
   "metadata": {},
   "outputs": [
    {
     "data": {
      "text/plain": [
       "array(['Avatar', 'Star Wars: The Force Awakens', 'Titanic',\n",
       "       'The Avengers', 'Jurassic World'], dtype=object)"
      ]
     },
     "execution_count": 8,
     "metadata": {},
     "output_type": "execute_result"
    }
   ],
   "source": [
    "top_5_grossing = df[df['revenue'] >= 1513528810].sort_values(by=\"revenue\",ascending=False)['original_title']\n",
    "top_5_grossing.values"
   ]
  },
  {
   "cell_type": "code",
   "execution_count": 9,
   "metadata": {},
   "outputs": [
    {
     "data": {
      "text/html": [
       "<div>\n",
       "<style scoped>\n",
       "    .dataframe tbody tr th:only-of-type {\n",
       "        vertical-align: middle;\n",
       "    }\n",
       "\n",
       "    .dataframe tbody tr th {\n",
       "        vertical-align: top;\n",
       "    }\n",
       "\n",
       "    .dataframe thead th {\n",
       "        text-align: right;\n",
       "    }\n",
       "</style>\n",
       "<table border=\"1\" class=\"dataframe\">\n",
       "  <thead>\n",
       "    <tr style=\"text-align: right;\">\n",
       "      <th></th>\n",
       "      <th>original_title</th>\n",
       "      <th>vote_average</th>\n",
       "      <th>release_year</th>\n",
       "    </tr>\n",
       "  </thead>\n",
       "  <tbody>\n",
       "    <tr>\n",
       "      <th>3894</th>\n",
       "      <td>The Story of Film: An Odyssey</td>\n",
       "      <td>9.2</td>\n",
       "      <td>2011</td>\n",
       "    </tr>\n",
       "    <tr>\n",
       "      <th>538</th>\n",
       "      <td>The Mask You Live In</td>\n",
       "      <td>8.9</td>\n",
       "      <td>2015</td>\n",
       "    </tr>\n",
       "    <tr>\n",
       "      <th>1200</th>\n",
       "      <td>Black Mirror: White Christmas</td>\n",
       "      <td>8.8</td>\n",
       "      <td>2014</td>\n",
       "    </tr>\n",
       "    <tr>\n",
       "      <th>2269</th>\n",
       "      <td>Life Cycles</td>\n",
       "      <td>8.8</td>\n",
       "      <td>2010</td>\n",
       "    </tr>\n",
       "    <tr>\n",
       "      <th>6911</th>\n",
       "      <td>Pink Floyd: Pulse</td>\n",
       "      <td>8.7</td>\n",
       "      <td>2006</td>\n",
       "    </tr>\n",
       "    <tr>\n",
       "      <th>2401</th>\n",
       "      <td>Opeth: In Live Concert At The Royal Albert Hall</td>\n",
       "      <td>8.6</td>\n",
       "      <td>2010</td>\n",
       "    </tr>\n",
       "    <tr>\n",
       "      <th>3224</th>\n",
       "      <td>John Mayer: Where the Light Is Live in Los Ang...</td>\n",
       "      <td>8.5</td>\n",
       "      <td>2008</td>\n",
       "    </tr>\n",
       "    <tr>\n",
       "      <th>3690</th>\n",
       "      <td>The Art of Flight</td>\n",
       "      <td>8.5</td>\n",
       "      <td>2011</td>\n",
       "    </tr>\n",
       "    <tr>\n",
       "      <th>5830</th>\n",
       "      <td>Doctor Who: The Time of the Doctor</td>\n",
       "      <td>8.5</td>\n",
       "      <td>2013</td>\n",
       "    </tr>\n",
       "    <tr>\n",
       "      <th>8221</th>\n",
       "      <td>A Personal Journey with Martin Scorsese Throug...</td>\n",
       "      <td>8.5</td>\n",
       "      <td>1995</td>\n",
       "    </tr>\n",
       "    <tr>\n",
       "      <th>8411</th>\n",
       "      <td>Queen - Rock Montreal</td>\n",
       "      <td>8.5</td>\n",
       "      <td>1981</td>\n",
       "    </tr>\n",
       "    <tr>\n",
       "      <th>8839</th>\n",
       "      <td>Dave Chappelle: Killin' Them Softly</td>\n",
       "      <td>8.5</td>\n",
       "      <td>2000</td>\n",
       "    </tr>\n",
       "  </tbody>\n",
       "</table>\n",
       "</div>"
      ],
      "text/plain": [
       "                                         original_title  vote_average  \\\n",
       "3894                      The Story of Film: An Odyssey           9.2   \n",
       "538                                The Mask You Live In           8.9   \n",
       "1200                      Black Mirror: White Christmas           8.8   \n",
       "2269                                        Life Cycles           8.8   \n",
       "6911                                  Pink Floyd: Pulse           8.7   \n",
       "2401    Opeth: In Live Concert At The Royal Albert Hall           8.6   \n",
       "3224  John Mayer: Where the Light Is Live in Los Ang...           8.5   \n",
       "3690                                  The Art of Flight           8.5   \n",
       "5830                 Doctor Who: The Time of the Doctor           8.5   \n",
       "8221  A Personal Journey with Martin Scorsese Throug...           8.5   \n",
       "8411                              Queen - Rock Montreal           8.5   \n",
       "8839                Dave Chappelle: Killin' Them Softly           8.5   \n",
       "\n",
       "      release_year  \n",
       "3894          2011  \n",
       "538           2015  \n",
       "1200          2014  \n",
       "2269          2010  \n",
       "6911          2006  \n",
       "2401          2010  \n",
       "3224          2008  \n",
       "3690          2011  \n",
       "5830          2013  \n",
       "8221          1995  \n",
       "8411          1981  \n",
       "8839          2000  "
      ]
     },
     "execution_count": 9,
     "metadata": {},
     "output_type": "execute_result"
    }
   ],
   "source": [
    "df['vote_average'].nlargest(10)\n",
    "highest_votes = df[df['vote_average']>=8.5]\n",
    "highest_votes[['original_title','vote_average','release_year']].sort_values(by= 'vote_average',ascending=False)"
   ]
  },
  {
   "cell_type": "markdown",
   "metadata": {},
   "source": [
    "<a id='r1'></a>\n",
    "\n",
    "#### Research Question 1: Who are the featured popular casts and what are the characteristics attributed to them?"
   ]
  },
  {
   "cell_type": "code",
   "execution_count": 10,
   "metadata": {},
   "outputs": [
    {
     "data": {
      "image/png": "[encoded data removed]",
      "text/plain": [
       "<Figure size 720x504 with 1 Axes>"
      ]
     },
     "metadata": {
      "needs_background": "light"
     },
     "output_type": "display_data"
    }
   ],
   "source": [
    "five_most_popular = cast_df['corrected_cast'].value_counts()[0:5]\n",
    "fig = plt.figure(figsize =(10, 7))\n",
    "five_most_popular.plot.barh(color='green')\n",
    "plt.title(\"Figure 1: Top 5 most featured casts\")\n",
    "plt.xlabel(\"Casts\")\n",
    "plt.ylabel(\"Number of movies featured\")\n",
    "plt.show()"
   ]
  },
  {
   "cell_type": "code",
   "execution_count": 11,
   "metadata": {},
   "outputs": [
    {
     "name": "stdout",
     "output_type": "stream",
     "text": [
      "Robert De Niro 71200080\n",
      "Samuel L. Jackson 99406032\n",
      "Bruce Willis 105905564\n",
      "Nicolas Cage 79776868\n",
      "Michael Caine 101075212\n"
     ]
    }
   ],
   "source": [
    "for c in five_most_popular.index:\n",
    "    avg_rating = cast_df[cast_df[\"corrected_cast\"] == c][\"revenue\"].mean()\n",
    "    print (c,round(avg_rating))"
   ]
  },
  {
   "cell_type": "code",
   "execution_count": 12,
   "metadata": {
    "scrolled": true
   },
   "outputs": [
    {
     "name": "stdout",
     "output_type": "stream",
     "text": [
      "Robert De Niro 6.330555555555556\n",
      "Samuel L. Jackson 6.090140845070424\n",
      "Bruce Willis 5.903225806451614\n",
      "Nicolas Cage 5.77704918032787\n",
      "Michael Caine 6.350943396226415\n"
     ]
    }
   ],
   "source": [
    "for c in five_most_popular.index:\n",
    "    avg_rating = cast_df[cast_df[\"corrected_cast\"] == c][\"vote_average\"].mean()\n",
    "    print (c, avg_rating)"
   ]
  },
  {
   "cell_type": "code",
   "execution_count": 13,
   "metadata": {},
   "outputs": [],
   "source": [
    "top_5_grossing = df[df['revenue'] >= 1513528810].sort_values(by=\"revenue\",ascending=False)['original_title']"
   ]
  },
  {
   "cell_type": "code",
   "execution_count": 14,
   "metadata": {},
   "outputs": [],
   "source": [
    "df['revenue'].nlargest(10)\n",
    "highest_revenue = cast_df[cast_df['revenue']>=1215439994]\n",
    "highest_revenue = highest_revenue[['original_title','corrected_cast','revenue']].sort_values(by= 'revenue',ascending=False)"
   ]
  },
  {
   "cell_type": "code",
   "execution_count": 15,
   "metadata": {},
   "outputs": [
    {
     "name": "stdout",
     "output_type": "stream",
     "text": [
      "0\n"
     ]
    }
   ],
   "source": [
    "cast_highest_revenue = highest_revenue['original_title'].values\n",
    "x = 0\n",
    "\n",
    "for c in five_most_popular:\n",
    "    d = cast_df[cast_df['corrected_cast']==c]['original_title']\n",
    "    for i in d:\n",
    "        if i in cast_highest_revenue:\n",
    "            x=x+1   \n",
    "print (x)"
   ]
  },
  {
   "cell_type": "markdown",
   "metadata": {},
   "source": [
    "**Figure 1** below gives a general breakdown of the top 5 most featured casts in the movies/tv shows from IMDB. The following are a breakdown of the most featured casts and general characteristics of these casts in the movie industry\n",
    "\n",
    "+ **Robert De Niro**: He is the most featured cast in the IMDB dataset. He featured as a cast in 72 movies. He has been a cast in movies since 1973 which was when the first movie he featured in was released. These movies had an average revenue of 71200080 which is the lowest in the list of the top 5 most featured casts. The overall vote average of the movies he featured is 6.33.\n",
    "\n",
    "\n",
    "+ **Samuel L. Jackson**: He is the second on the list and he featured in 71 movies. Of the five, he's career in the industry started later than the rest. He started featuring in movies in 1992. The average revenue in the movies he featured in is approximately 99 million dollars and the overall vote average of the movies he featured is 6.09 which is lower than that of Robert De Niro.\n",
    "\n",
    "\n",
    "+ **Bruce Williams**: As the third in the least of most featured, he started his career in 1987. He was a cast in the highest grossing movies with an average generated revenue of about 106 hundred million dollars. However, the overall vote average of the movies he featured was 5.9.\n",
    "\n",
    "\n",
    "+ **Nicolas Cage**: He is the second to last on the least with a record of 61 features in movies. His movie career started in 1983. His movies had a general vote average of 5.8 which is the lowest in this category.\n",
    "\n",
    "\n",
    "+ **Michael Caine** : He is the fifth most featured cast with a record of 53 features in movies. Of the five, his career in the movie industry started earliest. He also featured in the movies with the best vote average in this category with an overall vote average of 6.35.\n",
    "\n",
    "Generally, all the casts in the list of the five most featured casts started their career before the 2000s but still featured in recent movies, as recent as 2015. However, they did not feature in any of the top 10 highest grossing movies and they had a vote average of approximately 6.0"
   ]
  },
  {
   "cell_type": "markdown",
   "metadata": {},
   "source": [
    "<a id='r2'></a>\n",
    "\n",
    "#### Research Question 2: Who are the casts of the highest grossing movies and what is the general overview of their footprint in the movie industry?"
   ]
  },
  {
   "cell_type": "code",
   "execution_count": 16,
   "metadata": {},
   "outputs": [
    {
     "data": {
      "text/plain": [
       "1386    7.1\n",
       "Name: vote_average, dtype: float64"
      ]
     },
     "execution_count": 16,
     "metadata": {},
     "output_type": "execute_result"
    }
   ],
   "source": [
    "df[df['original_title'] == 'Avatar']['vote_average']"
   ]
  },
  {
   "cell_type": "code",
   "execution_count": 17,
   "metadata": {},
   "outputs": [
    {
     "data": {
      "text/plain": [
       "1386    2781505847\n",
       "Name: revenue, dtype: int64"
      ]
     },
     "execution_count": 17,
     "metadata": {},
     "output_type": "execute_result"
    }
   ],
   "source": [
    "df[df['original_title'] == 'Avatar']['revenue']"
   ]
  },
  {
   "cell_type": "code",
   "execution_count": 18,
   "metadata": {},
   "outputs": [
    {
     "data": {
      "text/plain": [
       "1365        Sam Worthington\n",
       "12126           Zoe Saldana\n",
       "22747      Sigourney Weaver\n",
       "33273          Stephen Lang\n",
       "43663    Michelle Rodriguez\n",
       "Name: corrected_cast, dtype: object"
      ]
     },
     "execution_count": 18,
     "metadata": {},
     "output_type": "execute_result"
    }
   ],
   "source": [
    "#The highest grossing movie is Avatar\n",
    "avatar_cast = cast_df[cast_df['original_title'] == 'Avatar']['corrected_cast']\n",
    "avatar_cast"
   ]
  },
  {
   "cell_type": "code",
   "execution_count": 19,
   "metadata": {},
   "outputs": [
    {
     "name": "stdout",
     "output_type": "stream",
     "text": [
      "0\n"
     ]
    }
   ],
   "source": [
    "cast_highest_votes = highest_votes['original_title'].values\n",
    "x = 0\n",
    "\n",
    "for c in avatar_cast:\n",
    "    d = cast_df[cast_df['corrected_cast']==c]['original_title']\n",
    "    for i in d:\n",
    "        if i in cast_highest_votes:\n",
    "            x=x+1\n",
    "            \n",
    "print (x)"
   ]
  },
  {
   "cell_type": "code",
   "execution_count": 20,
   "metadata": {},
   "outputs": [],
   "source": [
    "labels = []\n",
    "revenue_avg = []\n",
    "budget_avg = []\n",
    "\n",
    "for c in avatar_cast:\n",
    "    labels.append(c)\n",
    "    revenue_avg.append(cast_df[cast_df['corrected_cast']==c]['revenue'].mean())\n",
    "    budget_avg.append(cast_df[cast_df['corrected_cast']==c]['budget'].mean())"
   ]
  },
  {
   "cell_type": "code",
   "execution_count": 21,
   "metadata": {},
   "outputs": [
    {
     "data": {
      "image/png": "[encoded data removed]",
      "text/plain": [
       "<Figure size 720x504 with 1 Axes>"
      ]
     },
     "metadata": {
      "needs_background": "light"
     },
     "output_type": "display_data"
    },
    {
     "data": {
      "image/png": "[encoded data removed]",
      "text/plain": [
       "<Figure size 720x504 with 1 Axes>"
      ]
     },
     "metadata": {
      "needs_background": "light"
     },
     "output_type": "display_data"
    }
   ],
   "source": [
    "def plot(labels,values,caption, fig_number,quantity):\n",
    "    fig = plt.figure(figsize = (10,7))\n",
    "    plt.bar(labels, values, color='green')\n",
    "    plt.xlabel(\"Casts\")\n",
    "    plt.ylabel(\"Average {} in {}\".format(caption, quantity))\n",
    "    plt.title(\"Figure {} : Average {} of movies featuring Avatar Casts\".format(fig_number, caption));\n",
    "    plt.show()\n",
    "\n",
    "plot(labels, revenue_avg,\"Revenue\",2, 'hundred millions')\n",
    "plot(labels, budget_avg, \"Budget\",3, 'ten millions')"
   ]
  },
  {
   "cell_type": "code",
   "execution_count": 22,
   "metadata": {
    "scrolled": true
   },
   "outputs": [
    {
     "name": "stdout",
     "output_type": "stream",
     "text": [
      "Sam Worthington : Number of movies - 15  Overall vote average - 5.93\n",
      "Zoe Saldana : Number of movies - 19  Overall vote average - 6.27\n",
      "Sigourney Weaver : Number of movies - 33  Overall vote average - 6.32\n",
      "Stephen Lang : Number of movies - 16  Overall vote average - 5.57\n",
      "Michelle Rodriguez : Number of movies - 17  Overall vote average - 5.79\n"
     ]
    }
   ],
   "source": [
    "for c in avatar_cast:\n",
    "    n = cast_df[cast_df['corrected_cast']==c]['original_title'].nunique()\n",
    "    v = cast_df[cast_df['corrected_cast']==c]['vote_average'].mean()\n",
    "    w = cast_df[cast_df['corrected_cast']==c]['release_year'].min()\n",
    "    print (c, \": Number of movies - \"+str(n), \" Overall vote average - \" +str(round(v,2)) )"
   ]
  },
  {
   "cell_type": "code",
   "execution_count": 23,
   "metadata": {},
   "outputs": [
    {
     "name": "stdout",
     "output_type": "stream",
     "text": [
      "              vote_average   revenue\n",
      "vote_average      1.000000  0.172541\n",
      "revenue           0.172541  1.000000\n"
     ]
    },
    {
     "data": {
      "image/png": "[encoded data removed]",
      "text/plain": [
       "<Figure size 720x504 with 1 Axes>"
      ]
     },
     "metadata": {
      "needs_background": "light"
     },
     "output_type": "display_data"
    }
   ],
   "source": [
    "print (df[['vote_average','revenue']].corr())\n",
    "\n",
    "fig = plt.figure(figsize = (10,7))\n",
    "plt.scatter(df['vote_average'], df['revenue'], color='green')\n",
    "plt.xlabel(\"X-Axis: Vote Average\")\n",
    "plt.ylabel(\"Y-Axis: Revenue\")\n",
    "plt.title(\"Figure 4: Relationship between Vote Average and Revenue\")\n",
    "plt.show()\n",
    "#There is a slight positive correlation"
   ]
  },
  {
   "cell_type": "markdown",
   "metadata": {},
   "source": [
    "The 5 popular casts for the movie - **Avatar (2009)** , were: \n",
    "- Sam Worthington\n",
    "- Zoe Saldana\n",
    "- Sigourney Weaver\n",
    "- Stephen Lang \n",
    "- Michelle Rodriguez. \n",
    "\n",
    "Avatar was not their first movie as they already had footprints in the movie industry. Apart from Avatar, Sigourney Weaver featured in 32 other movies. He had the highest featuring in this category followed by Zoe Saldana who featured in 18 other movies. \n",
    "\n",
    "While the vote average for Avatar was 7.1/10, these casts had an overall vote average less than 7.1 which shows that they featured in movies with a lower vote average. Sigourney Weaver had the highest vote average of 6.32 while Stephen Lang who has featured in 15 other movies excluding the Avatar featured in movies with an overall vote average of 5.57. \n",
    "\n",
    "While the movies Sigourney featured in had higher ratings than the rest in this group, they also had the lowest average revenue. In a bid to ascertain whether there was a significant relationship between ratings and revenue of a movie, a scatter plot (**Figure 4**) was plotted which showed a weak positive correlation of 0.17 between revenue and vote average. In addition, further analysis also showed that none of this actors featured in the top 10 movies with the highest vote averages. The highest vote average in the IMDB dataset was for the movie **\"The Story of Film: An Odyssey\"** which had a vote average of 9.2 \n",
    "\n",
    "\n",
    "From **Figure 2** above, it can be inferred that the in this category, Michelle Rodriguez featured in movies with higher revenue than the rest of the group with an average revenue of over 300 million dollars, followed by Sam Worthington. The lowest on the list was Sigourney Weaver with only 150 million dollars. However, in **Figure 3** below, it can be inferred that Sam Worthington featured in movies with a higher budget than Michelle Rodriguez which shows that movies with the highest budget may not necessarily generate the highest revenue. As before, Sigourney Weaver also featured in movies with the lowest budget in this category. \n"
   ]
  },
  {
   "cell_type": "markdown",
   "metadata": {},
   "source": [
    "<a id='r3'></a>\n",
    "#### Research Question 3:  Does genre popularity influence rating?"
   ]
  },
  {
   "cell_type": "code",
   "execution_count": 24,
   "metadata": {
    "scrolled": true
   },
   "outputs": [],
   "source": [
    "genres_list = genres_df['corrected_genres'].value_counts() \n",
    "#A movie can have more than one genre"
   ]
  },
  {
   "cell_type": "code",
   "execution_count": 25,
   "metadata": {},
   "outputs": [
    {
     "data": {
      "image/png": "[encoded data removed]",
      "text/plain": [
       "<Figure size 1080x504 with 1 Axes>"
      ]
     },
     "metadata": {
      "needs_background": "light"
     },
     "output_type": "display_data"
    }
   ],
   "source": [
    "fig = plt.figure(figsize =(15, 7))\n",
    "genres_list.plot.barh(color='green')\n",
    "plt.title(\"Figure 5: Distrbution of Genres in IMDB Movies\")\n",
    "plt.xlabel(\"Count\")\n",
    "plt.show()"
   ]
  },
  {
   "cell_type": "code",
   "execution_count": 26,
   "metadata": {},
   "outputs": [
    {
     "name": "stdout",
     "output_type": "stream",
     "text": [
      "6.6\n"
     ]
    },
    {
     "data": {
      "image/png": "[encoded data removed]",
      "text/plain": [
       "<Figure size 720x504 with 1 Axes>"
      ]
     },
     "metadata": {
      "needs_background": "light"
     },
     "output_type": "display_data"
    }
   ],
   "source": [
    "#The best ratings in the 75% percentile\n",
    "print (genres_df['vote_average'].describe()['75%'])\n",
    "\n",
    "fig = plt.figure(figsize = (10,7))\n",
    "genres_df['vote_average'].plot(kind='box', color='green')\n",
    "plt.title(\"Figure 6: Boxplot showing the distribution of Vote Average\")\n",
    "plt.show()"
   ]
  },
  {
   "cell_type": "code",
   "execution_count": 27,
   "metadata": {},
   "outputs": [
    {
     "data": {
      "text/html": [
       "<div>\n",
       "<style scoped>\n",
       "    .dataframe tbody tr th:only-of-type {\n",
       "        vertical-align: middle;\n",
       "    }\n",
       "\n",
       "    .dataframe tbody tr th {\n",
       "        vertical-align: top;\n",
       "    }\n",
       "\n",
       "    .dataframe thead th {\n",
       "        text-align: right;\n",
       "    }\n",
       "</style>\n",
       "<table border=\"1\" class=\"dataframe\">\n",
       "  <thead>\n",
       "    <tr style=\"text-align: right;\">\n",
       "      <th></th>\n",
       "      <th>Vote Average</th>\n",
       "    </tr>\n",
       "  </thead>\n",
       "  <tbody>\n",
       "    <tr>\n",
       "      <th>Documentary</th>\n",
       "      <td>6.91</td>\n",
       "    </tr>\n",
       "    <tr>\n",
       "      <th>Music</th>\n",
       "      <td>6.48</td>\n",
       "    </tr>\n",
       "    <tr>\n",
       "      <th>History</th>\n",
       "      <td>6.41</td>\n",
       "    </tr>\n",
       "    <tr>\n",
       "      <th>Animation</th>\n",
       "      <td>6.40</td>\n",
       "    </tr>\n",
       "    <tr>\n",
       "      <th>War</th>\n",
       "      <td>6.30</td>\n",
       "    </tr>\n",
       "    <tr>\n",
       "      <th>Drama</th>\n",
       "      <td>6.17</td>\n",
       "    </tr>\n",
       "    <tr>\n",
       "      <th>Crime</th>\n",
       "      <td>6.12</td>\n",
       "    </tr>\n",
       "    <tr>\n",
       "      <th>Western</th>\n",
       "      <td>6.08</td>\n",
       "    </tr>\n",
       "    <tr>\n",
       "      <th>Romance</th>\n",
       "      <td>6.04</td>\n",
       "    </tr>\n",
       "    <tr>\n",
       "      <th>Family</th>\n",
       "      <td>6.00</td>\n",
       "    </tr>\n",
       "  </tbody>\n",
       "</table>\n",
       "</div>"
      ],
      "text/plain": [
       "             Vote Average\n",
       "Documentary          6.91\n",
       "Music                6.48\n",
       "History              6.41\n",
       "Animation            6.40\n",
       "War                  6.30\n",
       "Drama                6.17\n",
       "Crime                6.12\n",
       "Western              6.08\n",
       "Romance              6.04\n",
       "Family               6.00"
      ]
     },
     "execution_count": 27,
     "metadata": {},
     "output_type": "execute_result"
    }
   ],
   "source": [
    "genres = []\n",
    "vote_average = []\n",
    "for c in genres_list.index:\n",
    "    genres.append(c)\n",
    "    w = genres_df[genres_df['corrected_genres'] == c]['vote_average'].mean()\n",
    "    vote_average.append(round(w,2))\n",
    "\n",
    "new_df = pd.DataFrame(vote_average,genres,columns=['Vote Average'])\n",
    "new_df = new_df.sort_values(by = 'Vote Average', ascending=False)\n",
    "new_df.head(10)"
   ]
  },
  {
   "cell_type": "code",
   "execution_count": 28,
   "metadata": {},
   "outputs": [
    {
     "data": {
      "text/plain": [
       "Drama       1575\n",
       "Comedy       831\n",
       "Thriller     512\n",
       "Action       479\n",
       "Romance      434\n",
       "Name: corrected_genres, dtype: int64"
      ]
     },
     "execution_count": 28,
     "metadata": {},
     "output_type": "execute_result"
    }
   ],
   "source": [
    "best_voted = genres_df[genres_df['vote_average'] >= 6.6]\n",
    "best_voted['corrected_genres'].value_counts().head()"
   ]
  },
  {
   "cell_type": "markdown",
   "metadata": {},
   "source": [
    "Based on **Figure 5** above, the top 5 featured genres in movie industry are the Drama, Comedy, Thriller, Action and Romance genres (in that order). From the box plot in **Figure 6** the 75th percentile rating is 6.6. It was also observed that the top 5 most featured genre in the 75th percentile were also Drama, Comedy, Thriller, Action and Romance. However, upon compuation of the average rating of all genres, only the Drama and Romance genre made the list of the top 10 average rated genres in the 6th and 9th position respectively. At the top of the list were Documentary, Music and History with an average rating of 6.91, 6.48 and 6.41. These genres featured in 520, 408 and 334 movies and 366, 191 and 434 in the 75th percentile of rated movies. The result from the analysis shows that the most popular movie genres may not be the most widely accepted or rated. "
   ]
  },
  {
   "cell_type": "markdown",
   "metadata": {},
   "source": [
    "<a id='conclusions'></a>\n",
    "\n",
    "## Conclusions and Limitations"
   ]
  },
  {
   "cell_type": "markdown",
   "metadata": {},
   "source": [
    "This report analyzed the International Movies dataset containing movies from 1960 to 2015. Based on the analysis generated in this report, Avatar(2009) was observed to be the highest grossing movie with a revenue of 2.7 billion dollars. It also had a movie rating of 7.1 which is above the average rating of movies in the database. The casts of this movie were also present in other movies before and after Avatar. Sigourney Weaver had the highest feature in movies although the movies he featured in had the lowest revenue and budget compared to the other casts in Avatar. \n",
    "\n",
    "Robert De Niro is the most featured cast featuring in 72 movies as early as 1973. His close competitor was Samuel L. Jackson who featured in 71 movies from 1992 to 2015. However, none of the top 5 most featured casts were casts in the highest grossing movies. \n",
    "\n",
    "This report also established that certain genres were more favourable to users than the others. Although not the most featured genre in the movie industry, the Documentary, Music and History genres had a higher average rating than the other genres.\n",
    "\n",
    "One major limitation of this report is that the movies provided in the database are not up to date and so the analysis performed are limited to movies from 1960 to 2015. In addition, the data had some discrepancies which could add bias to/influence the analysis reported. Some of which are: \n",
    "\n",
    "+ The movie Tekken (2010) directed by Dwight Little was recorded twice\n",
    "+ The casts of some movies were missing\n",
    "+ The genres of some movies were missing"
   ]
  },
  {
   "cell_type": "markdown",
   "metadata": {},
   "source": [
    "<a id='reference'></a>\n",
    "\n",
    "## References\n",
    "\n",
    "+ [Ignoring Python Warnings](https://stackoverflow.com/questions/14463277/how-to-disable-python-warnings)\n",
    "+ [Markdown Guide](https://www.markdownguide.org/basic-syntax/)\n",
    "+ [IMDB Help Center](https://help.imdb.com/article/imdb/track-movies-tv/the-vote-average-for-film-x-should-be-y-why-are-you-displaying-another-rating/G3RC8ZNFAGWNTX4L?ref_=helpart_nav_9#)\n",
    "+ [String Split in Pandas](https://blog.hubspot.com/website/pandas-split-string)\n",
    "+ [Matplotlib Figure Function](https://www.geeksforgeeks.org/matplotlib-pyplot-figure-in-python/)\n",
    "+ [Pandas Cheet Sheet](https://pandas.pydata.org/Pandas_Cheat_Sheet.pdf)\n",
    "+ [Choosing Plot Types](https://udacity-reviews-uploads.s3.us-west-2.amazonaws.com/_attachments/83662/1588660779/How-to-Visualize-your-Data-with-Charts-and-Graphs.jpg)\n",
    "+ [Avioding Code Repetition with Functions](https://hub.packtpub.com/python-functions-avoid-repeating-code/)"
   ]
  }
 ],
 "metadata": {
  "kernelspec": {
   "display_name": "Python 3",
   "language": "python",
   "name": "python3"
  },
  "language_info": {
   "codemirror_mode": {
    "name": "ipython",
    "version": 3
   },
   "file_extension": ".py",
   "mimetype": "text/x-python",
   "name": "python",
   "nbconvert_exporter": "python",
   "pygments_lexer": "ipython3",
   "version": "3.7.4"
  }
 },
 "nbformat": 4,
 "nbformat_minor": 2
}
